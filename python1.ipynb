{
  "metadata": {
    "kernelspec": {
      "language": "python",
      "display_name": "Python 3",
      "name": "python3"
    },
    "language_info": {
      "name": "python",
      "version": "3.11.13",
      "mimetype": "text/x-python",
      "codemirror_mode": {
        "name": "ipython",
        "version": 3
      },
      "pygments_lexer": "ipython3",
      "nbconvert_exporter": "python",
      "file_extension": ".py"
    },
    "kaggle": {
      "accelerator": "none",
      "dataSources": [],
      "dockerImageVersionId": 31089,
      "isInternetEnabled": true,
      "language": "python",
      "sourceType": "notebook",
      "isGpuEnabled": false
    },
    "colab": {
      "name": "python1",
      "provenance": [],
      "include_colab_link": true
    }
  },
  "nbformat_minor": 0,
  "nbformat": 4,
  "cells": [
    {
      "cell_type": "markdown",
      "metadata": {
        "id": "view-in-github",
        "colab_type": "text"
      },
      "source": [
        "<a href=\"https://colab.research.google.com/github/soubhagyaroy-dev/Python_Basic/blob/main/python1.ipynb\" target=\"_parent\"><img src=\"https://colab.research.google.com/assets/colab-badge.svg\" alt=\"Open In Colab\"/></a>"
      ]
    },
    {
      "cell_type": "code",
      "source": [
        "# This Python 3 environment comes with many helpful analytics libraries installed\n",
        "# It is defined by the kaggle/python Docker image: https://github.com/kaggle/docker-python\n",
        "# For example, here's several helpful packages to load\n",
        "\n",
        "import numpy as np # linear algebra\n",
        "import pandas as pd # data processing, CSV file I/O (e.g. pd.read_csv)\n",
        "\n",
        "# Input data files are available in the read-only \"../input/\" directory\n",
        "# For example, running this (by clicking run or pressing Shift+Enter) will list all files under the input directory\n",
        "\n",
        "import os\n",
        "for dirname, _, filenames in os.walk('/kaggle/input'):\n",
        "    for filename in filenames:\n",
        "        print(os.path.join(dirname, filename))\n",
        "\n",
        "# You can write up to 20GB to the current directory (/kaggle/working/) that gets preserved as output when you create a version using \"Save & Run All\"\n",
        "# You can also write temporary files to /kaggle/temp/, but they won't be saved outside of the current session"
      ],
      "metadata": {
        "_uuid": "8f2839f25d086af736a60e9eeb907d3b93b6e0e5",
        "_cell_guid": "b1076dfc-b9ad-4769-8c92-a6c4dae69d19",
        "trusted": true,
        "id": "8M7cc5xueNp7"
      },
      "outputs": [],
      "execution_count": null
    },
    {
      "cell_type": "markdown",
      "source": [
        "# 1. Python Output"
      ],
      "metadata": {
        "id": "Q0Nm9HU9eNp-"
      }
    },
    {
      "cell_type": "code",
      "source": [
        "# Python is a case sensetive language\n",
        "print('Hello World')"
      ],
      "metadata": {
        "trusted": true,
        "execution": {
          "iopub.status.busy": "2025-07-08T13:55:58.691379Z",
          "iopub.execute_input": "2025-07-08T13:55:58.691743Z",
          "iopub.status.idle": "2025-07-08T13:55:58.700866Z",
          "shell.execute_reply.started": "2025-07-08T13:55:58.691715Z",
          "shell.execute_reply": "2025-07-08T13:55:58.699834Z"
        },
        "id": "6V93mSVMeNp-"
      },
      "outputs": [],
      "execution_count": null
    },
    {
      "cell_type": "code",
      "source": [
        "print('Salman Khan')"
      ],
      "metadata": {
        "trusted": true,
        "execution": {
          "iopub.status.busy": "2025-07-08T13:56:11.231691Z",
          "iopub.execute_input": "2025-07-08T13:56:11.232047Z",
          "iopub.status.idle": "2025-07-08T13:56:11.237085Z",
          "shell.execute_reply.started": "2025-07-08T13:56:11.23202Z",
          "shell.execute_reply": "2025-07-08T13:56:11.236211Z"
        },
        "id": "BCFS9fmLeNp_"
      },
      "outputs": [],
      "execution_count": null
    },
    {
      "cell_type": "code",
      "source": [
        "print(Salman Khan)"
      ],
      "metadata": {
        "trusted": true,
        "execution": {
          "iopub.status.busy": "2025-07-08T13:56:27.717208Z",
          "iopub.execute_input": "2025-07-08T13:56:27.717536Z",
          "iopub.status.idle": "2025-07-08T13:56:27.724291Z",
          "shell.execute_reply.started": "2025-07-08T13:56:27.717508Z",
          "shell.execute_reply": "2025-07-08T13:56:27.723169Z"
        },
        "id": "HSgX-1CIeNp_"
      },
      "outputs": [],
      "execution_count": null
    },
    {
      "cell_type": "code",
      "source": [
        "print(7)"
      ],
      "metadata": {
        "trusted": true,
        "execution": {
          "iopub.status.busy": "2025-07-08T13:56:36.385123Z",
          "iopub.execute_input": "2025-07-08T13:56:36.385422Z",
          "iopub.status.idle": "2025-07-08T13:56:36.390918Z",
          "shell.execute_reply.started": "2025-07-08T13:56:36.385396Z",
          "shell.execute_reply": "2025-07-08T13:56:36.390006Z"
        },
        "id": "KYu07q8BeNp_"
      },
      "outputs": [],
      "execution_count": null
    },
    {
      "cell_type": "code",
      "source": [
        "print(7.7)"
      ],
      "metadata": {
        "trusted": true,
        "execution": {
          "iopub.status.busy": "2025-07-08T13:56:51.303958Z",
          "iopub.execute_input": "2025-07-08T13:56:51.30424Z",
          "iopub.status.idle": "2025-07-08T13:56:51.309112Z",
          "shell.execute_reply.started": "2025-07-08T13:56:51.304219Z",
          "shell.execute_reply": "2025-07-08T13:56:51.308041Z"
        },
        "id": "AhnBFSqaeNp_"
      },
      "outputs": [],
      "execution_count": null
    },
    {
      "cell_type": "code",
      "source": [
        "print(True)"
      ],
      "metadata": {
        "trusted": true,
        "execution": {
          "iopub.status.busy": "2025-07-08T13:57:39.3977Z",
          "iopub.execute_input": "2025-07-08T13:57:39.397978Z",
          "iopub.status.idle": "2025-07-08T13:57:39.402287Z",
          "shell.execute_reply.started": "2025-07-08T13:57:39.397958Z",
          "shell.execute_reply": "2025-07-08T13:57:39.401369Z"
        },
        "id": "dgA0zGyOeNqA"
      },
      "outputs": [],
      "execution_count": null
    },
    {
      "cell_type": "code",
      "source": [
        "print('Hello',1,4.5,True)"
      ],
      "metadata": {
        "trusted": true,
        "execution": {
          "iopub.status.busy": "2025-07-08T13:57:59.787844Z",
          "iopub.execute_input": "2025-07-08T13:57:59.788122Z",
          "iopub.status.idle": "2025-07-08T13:57:59.792911Z",
          "shell.execute_reply.started": "2025-07-08T13:57:59.7881Z",
          "shell.execute_reply": "2025-07-08T13:57:59.792051Z"
        },
        "id": "qgq4Ye1jeNqA"
      },
      "outputs": [],
      "execution_count": null
    },
    {
      "cell_type": "code",
      "source": [
        "print('Hello',1,4.5,True,sep = '/')"
      ],
      "metadata": {
        "trusted": true,
        "execution": {
          "iopub.status.busy": "2025-07-08T13:58:40.411186Z",
          "iopub.execute_input": "2025-07-08T13:58:40.411484Z",
          "iopub.status.idle": "2025-07-08T13:58:40.416999Z",
          "shell.execute_reply.started": "2025-07-08T13:58:40.411458Z",
          "shell.execute_reply": "2025-07-08T13:58:40.415833Z"
        },
        "id": "fWl4j2gaeNqA"
      },
      "outputs": [],
      "execution_count": null
    },
    {
      "cell_type": "code",
      "source": [
        "print('Hello')\n",
        "print('World')"
      ],
      "metadata": {
        "trusted": true,
        "execution": {
          "iopub.status.busy": "2025-07-08T13:59:09.834842Z",
          "iopub.execute_input": "2025-07-08T13:59:09.835834Z",
          "iopub.status.idle": "2025-07-08T13:59:09.840361Z",
          "shell.execute_reply.started": "2025-07-08T13:59:09.835801Z",
          "shell.execute_reply": "2025-07-08T13:59:09.839564Z"
        },
        "id": "tgPJgHL0eNqA"
      },
      "outputs": [],
      "execution_count": null
    },
    {
      "cell_type": "code",
      "source": [
        "print('hello',end='-')\n",
        "print('world')"
      ],
      "metadata": {
        "trusted": true,
        "execution": {
          "iopub.status.busy": "2025-07-08T13:59:39.775337Z",
          "iopub.execute_input": "2025-07-08T13:59:39.775616Z",
          "iopub.status.idle": "2025-07-08T13:59:39.780804Z",
          "shell.execute_reply.started": "2025-07-08T13:59:39.775597Z",
          "shell.execute_reply": "2025-07-08T13:59:39.779971Z"
        },
        "id": "QXVJ7bUfeNqB"
      },
      "outputs": [],
      "execution_count": null
    },
    {
      "cell_type": "markdown",
      "source": [
        "# 2. Data Types"
      ],
      "metadata": {
        "id": "dE9_w1u_eNqB"
      }
    },
    {
      "cell_type": "code",
      "source": [
        "#Integer\n",
        "print(8)\n",
        "# 1*10^308\n",
        "print(1e309)"
      ],
      "metadata": {
        "trusted": true,
        "execution": {
          "iopub.status.busy": "2025-07-08T14:00:56.735565Z",
          "iopub.execute_input": "2025-07-08T14:00:56.735871Z",
          "iopub.status.idle": "2025-07-08T14:00:56.741558Z",
          "shell.execute_reply.started": "2025-07-08T14:00:56.735849Z",
          "shell.execute_reply": "2025-07-08T14:00:56.740401Z"
        },
        "id": "h4LzGq08eNqB"
      },
      "outputs": [],
      "execution_count": null
    },
    {
      "cell_type": "code",
      "source": [
        "# Decimal/Float\n",
        "print(8.55)\n",
        "print(1.7e309)"
      ],
      "metadata": {
        "trusted": true,
        "execution": {
          "iopub.status.busy": "2025-07-08T14:01:49.407121Z",
          "iopub.execute_input": "2025-07-08T14:01:49.407436Z",
          "iopub.status.idle": "2025-07-08T14:01:49.412611Z",
          "shell.execute_reply.started": "2025-07-08T14:01:49.407404Z",
          "shell.execute_reply": "2025-07-08T14:01:49.411564Z"
        },
        "id": "GaBXZqqNeNqB"
      },
      "outputs": [],
      "execution_count": null
    },
    {
      "cell_type": "code",
      "source": [
        "# Boolean\n",
        "print(True)\n",
        "print(False)"
      ],
      "metadata": {
        "trusted": true,
        "execution": {
          "iopub.status.busy": "2025-07-08T14:02:28.100035Z",
          "iopub.execute_input": "2025-07-08T14:02:28.100323Z",
          "iopub.status.idle": "2025-07-08T14:02:28.105493Z",
          "shell.execute_reply.started": "2025-07-08T14:02:28.100303Z",
          "shell.execute_reply": "2025-07-08T14:02:28.104305Z"
        },
        "id": "jiFXiIxJeNqB"
      },
      "outputs": [],
      "execution_count": null
    },
    {
      "cell_type": "code",
      "source": [
        "# Text/String\n",
        "print('Hello World')"
      ],
      "metadata": {
        "trusted": true,
        "execution": {
          "iopub.status.busy": "2025-07-08T14:03:19.717161Z",
          "iopub.execute_input": "2025-07-08T14:03:19.71751Z",
          "iopub.status.idle": "2025-07-08T14:03:19.722146Z",
          "shell.execute_reply.started": "2025-07-08T14:03:19.717484Z",
          "shell.execute_reply": "2025-07-08T14:03:19.721193Z"
        },
        "id": "MY-40dybeNqB"
      },
      "outputs": [],
      "execution_count": null
    },
    {
      "cell_type": "code",
      "source": [
        "# complex\n",
        "print(5+6j)"
      ],
      "metadata": {
        "trusted": true,
        "execution": {
          "iopub.status.busy": "2025-07-08T14:03:46.505818Z",
          "iopub.execute_input": "2025-07-08T14:03:46.50614Z",
          "iopub.status.idle": "2025-07-08T14:03:46.510968Z",
          "shell.execute_reply.started": "2025-07-08T14:03:46.506115Z",
          "shell.execute_reply": "2025-07-08T14:03:46.51012Z"
        },
        "id": "QT6N98lOeNqB"
      },
      "outputs": [],
      "execution_count": null
    },
    {
      "cell_type": "code",
      "source": [
        "#List -> C -> Array\n",
        "print([1,2,3,4,5])"
      ],
      "metadata": {
        "trusted": true,
        "execution": {
          "iopub.status.busy": "2025-07-08T14:04:31.663365Z",
          "iopub.execute_input": "2025-07-08T14:04:31.664196Z",
          "iopub.status.idle": "2025-07-08T14:04:31.668558Z",
          "shell.execute_reply.started": "2025-07-08T14:04:31.664169Z",
          "shell.execute_reply": "2025-07-08T14:04:31.667583Z"
        },
        "id": "mXCJ-6AleNqB"
      },
      "outputs": [],
      "execution_count": null
    },
    {
      "cell_type": "code",
      "source": [
        "# Tuple\n",
        "print((1,2,3,4,5))"
      ],
      "metadata": {
        "trusted": true,
        "execution": {
          "iopub.status.busy": "2025-07-08T14:05:41.670436Z",
          "iopub.execute_input": "2025-07-08T14:05:41.67078Z",
          "iopub.status.idle": "2025-07-08T14:05:41.675816Z",
          "shell.execute_reply.started": "2025-07-08T14:05:41.670754Z",
          "shell.execute_reply": "2025-07-08T14:05:41.674754Z"
        },
        "id": "cVAZff5PeNqB"
      },
      "outputs": [],
      "execution_count": null
    },
    {
      "cell_type": "code",
      "source": [
        "# Sets\n",
        "print({1,2,3,4,5})"
      ],
      "metadata": {
        "trusted": true,
        "execution": {
          "iopub.status.busy": "2025-07-08T14:06:09.309256Z",
          "iopub.execute_input": "2025-07-08T14:06:09.309568Z",
          "iopub.status.idle": "2025-07-08T14:06:09.31437Z",
          "shell.execute_reply.started": "2025-07-08T14:06:09.309543Z",
          "shell.execute_reply": "2025-07-08T14:06:09.31357Z"
        },
        "id": "aWFz7iggeNqB"
      },
      "outputs": [],
      "execution_count": null
    },
    {
      "cell_type": "code",
      "source": [
        "# Dictionary\n",
        "print({'name':'Nitish','gender':'Male','weight':70})"
      ],
      "metadata": {
        "trusted": true,
        "execution": {
          "iopub.status.busy": "2025-07-08T14:07:18.798347Z",
          "iopub.execute_input": "2025-07-08T14:07:18.798795Z",
          "iopub.status.idle": "2025-07-08T14:07:18.80458Z",
          "shell.execute_reply.started": "2025-07-08T14:07:18.79874Z",
          "shell.execute_reply": "2025-07-08T14:07:18.803205Z"
        },
        "id": "2sh-w2-LeNqB"
      },
      "outputs": [],
      "execution_count": null
    },
    {
      "cell_type": "code",
      "source": [
        "#type\n",
        "type([1,2,3])"
      ],
      "metadata": {
        "trusted": true,
        "execution": {
          "iopub.status.busy": "2025-07-08T14:07:38.959157Z",
          "iopub.execute_input": "2025-07-08T14:07:38.95945Z",
          "iopub.status.idle": "2025-07-08T14:07:38.966619Z",
          "shell.execute_reply.started": "2025-07-08T14:07:38.959426Z",
          "shell.execute_reply": "2025-07-08T14:07:38.965859Z"
        },
        "id": "BgSqBRlheNqB"
      },
      "outputs": [],
      "execution_count": null
    },
    {
      "cell_type": "markdown",
      "source": [
        "# 3. Variables"
      ],
      "metadata": {
        "id": "-gOA6HASeNqB"
      }
    },
    {
      "cell_type": "code",
      "source": [
        "# Static Vs Dynamic Typing\n",
        "# Static Vs Dynamic Binding\n",
        "# stylish declaration techniques"
      ],
      "metadata": {
        "trusted": true,
        "id": "yX3SQNW1eNqB"
      },
      "outputs": [],
      "execution_count": null
    },
    {
      "cell_type": "code",
      "source": [
        "# C/C++\n",
        "name = 'nitish'\n",
        "print(name)\n",
        "\n",
        "a = 5\n",
        "b = 6\n",
        "\n",
        "print(a+b)"
      ],
      "metadata": {
        "trusted": true,
        "execution": {
          "iopub.status.busy": "2025-07-08T14:12:16.742685Z",
          "iopub.execute_input": "2025-07-08T14:12:16.742986Z",
          "iopub.status.idle": "2025-07-08T14:12:16.748303Z",
          "shell.execute_reply.started": "2025-07-08T14:12:16.742964Z",
          "shell.execute_reply": "2025-07-08T14:12:16.7474Z"
        },
        "id": "NxEzcJp4eNqC"
      },
      "outputs": [],
      "execution_count": null
    },
    {
      "cell_type": "code",
      "source": [
        "# Dynamic Typing\n",
        "a = 5\n",
        "# Static Typing\n",
        "int a = 5"
      ],
      "metadata": {
        "trusted": true,
        "execution": {
          "iopub.status.busy": "2025-07-08T14:12:56.576786Z",
          "iopub.execute_input": "2025-07-08T14:12:56.577098Z",
          "iopub.status.idle": "2025-07-08T14:12:56.583475Z",
          "shell.execute_reply.started": "2025-07-08T14:12:56.577075Z",
          "shell.execute_reply": "2025-07-08T14:12:56.582392Z"
        },
        "id": "LYIywwzKeNqC"
      },
      "outputs": [],
      "execution_count": null
    },
    {
      "cell_type": "code",
      "source": [
        "#Dynamic Binding\n",
        "a = 5\n",
        "print(a)\n",
        "a = 'nitish'\n",
        "print(a)"
      ],
      "metadata": {
        "trusted": true,
        "execution": {
          "iopub.status.busy": "2025-07-08T14:14:24.748558Z",
          "iopub.execute_input": "2025-07-08T14:14:24.7497Z",
          "iopub.status.idle": "2025-07-08T14:14:24.754663Z",
          "shell.execute_reply.started": "2025-07-08T14:14:24.749662Z",
          "shell.execute_reply": "2025-07-08T14:14:24.7537Z"
        },
        "id": "imK6Dnf4eNqC"
      },
      "outputs": [],
      "execution_count": null
    },
    {
      "cell_type": "code",
      "source": [
        "#Static Binding\n",
        "int a = 5"
      ],
      "metadata": {
        "trusted": true,
        "execution": {
          "iopub.status.busy": "2025-07-08T14:14:30.864191Z",
          "iopub.execute_input": "2025-07-08T14:14:30.864487Z",
          "iopub.status.idle": "2025-07-08T14:14:30.871967Z",
          "shell.execute_reply.started": "2025-07-08T14:14:30.864462Z",
          "shell.execute_reply": "2025-07-08T14:14:30.870683Z"
        },
        "id": "tOmLT-SceNqC"
      },
      "outputs": [],
      "execution_count": null
    },
    {
      "cell_type": "code",
      "source": [
        "a = 1\n",
        "b = 2\n",
        "c = 3\n",
        "print(a,b,c)"
      ],
      "metadata": {
        "trusted": true,
        "execution": {
          "iopub.status.busy": "2025-07-08T14:14:55.720349Z",
          "iopub.execute_input": "2025-07-08T14:14:55.720658Z",
          "iopub.status.idle": "2025-07-08T14:14:55.725934Z",
          "shell.execute_reply.started": "2025-07-08T14:14:55.720608Z",
          "shell.execute_reply": "2025-07-08T14:14:55.72484Z"
        },
        "id": "v54p9oxfeNqC"
      },
      "outputs": [],
      "execution_count": null
    },
    {
      "cell_type": "code",
      "source": [
        "a,b,c = 1,2,3\n",
        "print(a,b,c)"
      ],
      "metadata": {
        "trusted": true,
        "execution": {
          "iopub.status.busy": "2025-07-08T14:15:16.79505Z",
          "iopub.execute_input": "2025-07-08T14:15:16.795315Z",
          "iopub.status.idle": "2025-07-08T14:15:16.800036Z",
          "shell.execute_reply.started": "2025-07-08T14:15:16.795295Z",
          "shell.execute_reply": "2025-07-08T14:15:16.799013Z"
        },
        "id": "E8ioemgPeNqC"
      },
      "outputs": [],
      "execution_count": null
    },
    {
      "cell_type": "code",
      "source": [
        "a=b=c= 5\n",
        "print(a,b,c)"
      ],
      "metadata": {
        "trusted": true,
        "execution": {
          "iopub.status.busy": "2025-07-08T14:15:41.010824Z",
          "iopub.execute_input": "2025-07-08T14:15:41.011115Z",
          "iopub.status.idle": "2025-07-08T14:15:41.01639Z",
          "shell.execute_reply.started": "2025-07-08T14:15:41.011093Z",
          "shell.execute_reply": "2025-07-08T14:15:41.015366Z"
        },
        "id": "i_bCNohNeNqC"
      },
      "outputs": [],
      "execution_count": null
    },
    {
      "cell_type": "markdown",
      "source": [
        "# 4. Keywords & Identiifiers"
      ],
      "metadata": {
        "id": "MpcQuOpGeNqC"
      }
    },
    {
      "cell_type": "code",
      "source": [
        "# Keywords"
      ],
      "metadata": {
        "trusted": true,
        "execution": {
          "iopub.status.busy": "2025-07-08T14:17:34.13611Z",
          "iopub.execute_input": "2025-07-08T14:17:34.13639Z",
          "iopub.status.idle": "2025-07-08T14:17:34.141131Z",
          "shell.execute_reply.started": "2025-07-08T14:17:34.136369Z",
          "shell.execute_reply": "2025-07-08T14:17:34.139761Z"
        },
        "id": "cmeOicSCeNqC"
      },
      "outputs": [],
      "execution_count": null
    },
    {
      "cell_type": "code",
      "source": [
        "# Identifiers\n",
        "# You can't start with a digit\n",
        "name1 = 'Nitish'\n",
        "print(name1)\n",
        "# You can use special chars -> _\n",
        "_ = 'nitish'\n",
        "print(_)\n",
        "# Identifiers can not be keyword"
      ],
      "metadata": {
        "trusted": true,
        "execution": {
          "iopub.status.busy": "2025-07-08T14:20:01.316259Z",
          "iopub.execute_input": "2025-07-08T14:20:01.316568Z",
          "iopub.status.idle": "2025-07-08T14:20:01.322038Z",
          "shell.execute_reply.started": "2025-07-08T14:20:01.316544Z",
          "shell.execute_reply": "2025-07-08T14:20:01.321043Z"
        },
        "id": "y9HRfygWeNqC"
      },
      "outputs": [],
      "execution_count": null
    },
    {
      "cell_type": "markdown",
      "source": [
        "# 5. User Input"
      ],
      "metadata": {
        "id": "aksSNhOWeNqC"
      }
    },
    {
      "cell_type": "code",
      "source": [
        "# Static vs Dynamic\n",
        "input('Enter Email')"
      ],
      "metadata": {
        "trusted": true,
        "execution": {
          "iopub.status.busy": "2025-07-08T14:21:18.703359Z",
          "iopub.execute_input": "2025-07-08T14:21:18.703695Z",
          "iopub.status.idle": "2025-07-08T14:21:46.996338Z",
          "shell.execute_reply.started": "2025-07-08T14:21:18.703664Z",
          "shell.execute_reply": "2025-07-08T14:21:46.995365Z"
        },
        "id": "OrbW1sjqeNqC"
      },
      "outputs": [],
      "execution_count": null
    },
    {
      "cell_type": "code",
      "source": [
        "# take input from users and store them in a variable\n",
        "fnum = int(input('enter first number'))\n",
        "snum = int(input('enter second number'))\n",
        "print(type(fnum),type(snum))\n",
        "# add the 2 variables\n",
        "result = fnum + snum\n",
        "# print the result\n",
        "print(result)\n",
        "print(type(fnum))"
      ],
      "metadata": {
        "trusted": true,
        "execution": {
          "iopub.status.busy": "2025-07-08T14:26:18.264323Z",
          "iopub.execute_input": "2025-07-08T14:26:18.2646Z",
          "iopub.status.idle": "2025-07-08T14:26:22.788009Z",
          "shell.execute_reply.started": "2025-07-08T14:26:18.264581Z",
          "shell.execute_reply": "2025-07-08T14:26:22.787196Z"
        },
        "id": "7ZYIS8GSeNqC"
      },
      "outputs": [],
      "execution_count": null
    },
    {
      "cell_type": "markdown",
      "source": [
        "# 6. Type Conversion"
      ],
      "metadata": {
        "id": "YYY37tGQeNqD"
      }
    },
    {
      "cell_type": "code",
      "source": [
        "# Implicit Vs Explicit\n",
        "print(5+5.6)\n",
        "print(type(5),type(5.6))\n",
        "print(4 + '4')"
      ],
      "metadata": {
        "trusted": true,
        "execution": {
          "iopub.status.busy": "2025-07-08T14:28:56.165962Z",
          "iopub.execute_input": "2025-07-08T14:28:56.16635Z",
          "iopub.status.idle": "2025-07-08T14:28:56.178228Z",
          "shell.execute_reply.started": "2025-07-08T14:28:56.166322Z",
          "shell.execute_reply": "2025-07-08T14:28:56.177095Z"
        },
        "id": "Phk5wunTeNqG"
      },
      "outputs": [],
      "execution_count": null
    },
    {
      "cell_type": "code",
      "source": [
        "# Explicit\n",
        "# str -> int\n",
        "int(4+5j)"
      ],
      "metadata": {
        "trusted": true,
        "execution": {
          "iopub.status.busy": "2025-07-08T14:29:51.956289Z",
          "iopub.execute_input": "2025-07-08T14:29:51.956676Z",
          "iopub.status.idle": "2025-07-08T14:29:51.967649Z",
          "shell.execute_reply.started": "2025-07-08T14:29:51.956646Z",
          "shell.execute_reply": "2025-07-08T14:29:51.966414Z"
        },
        "id": "HM9ybNTMeNqG"
      },
      "outputs": [],
      "execution_count": null
    },
    {
      "cell_type": "code",
      "source": [
        "# int to str\n",
        "str(5)"
      ],
      "metadata": {
        "trusted": true,
        "execution": {
          "iopub.status.busy": "2025-07-08T14:30:24.163224Z",
          "iopub.execute_input": "2025-07-08T14:30:24.16358Z",
          "iopub.status.idle": "2025-07-08T14:30:24.169692Z",
          "shell.execute_reply.started": "2025-07-08T14:30:24.163554Z",
          "shell.execute_reply": "2025-07-08T14:30:24.168849Z"
        },
        "id": "RADaxM2meNqG"
      },
      "outputs": [],
      "execution_count": null
    },
    {
      "cell_type": "code",
      "source": [
        "# float\n",
        "float(4)"
      ],
      "metadata": {
        "trusted": true,
        "execution": {
          "iopub.status.busy": "2025-07-08T14:30:39.367022Z",
          "iopub.execute_input": "2025-07-08T14:30:39.367308Z",
          "iopub.status.idle": "2025-07-08T14:30:39.373163Z",
          "shell.execute_reply.started": "2025-07-08T14:30:39.367286Z",
          "shell.execute_reply": "2025-07-08T14:30:39.372111Z"
        },
        "id": "rpmfHmW4eNqH"
      },
      "outputs": [],
      "execution_count": null
    },
    {
      "cell_type": "markdown",
      "source": [
        "# 7. Literals"
      ],
      "metadata": {
        "id": "a4tumaI7eNqH"
      }
    },
    {
      "cell_type": "markdown",
      "source": [
        "### literals are the fixed values that are directly written into the source code of a program"
      ],
      "metadata": {
        "id": "_PLoQL3xeNqH"
      }
    },
    {
      "cell_type": "code",
      "source": [
        "a = 0b1010 #Binary Literals\n",
        "b = 100 #Decimal Literals\n",
        "c = 0o310 #Octal Literals\n",
        "d = 0x12c #Hexadecimal Litarals\n",
        "\n",
        "#Float Literals\n",
        "float_1 = 10.5\n",
        "float_2 = 1.5e2\n",
        "float_3 = 1.5e-3\n",
        "\n",
        "#Complex Literals\n",
        "x = 3.14j\n",
        "\n",
        "print(a,b,c,d)\n",
        "print(float_1,float_2,float_3)\n",
        "print(x, x.imag, x.real)"
      ],
      "metadata": {
        "trusted": true,
        "execution": {
          "iopub.status.busy": "2025-07-08T17:45:13.771824Z",
          "iopub.execute_input": "2025-07-08T17:45:13.772326Z",
          "iopub.status.idle": "2025-07-08T17:45:13.788276Z",
          "shell.execute_reply.started": "2025-07-08T17:45:13.772285Z",
          "shell.execute_reply": "2025-07-08T17:45:13.787124Z"
        },
        "id": "CBlPVuWReNqH"
      },
      "outputs": [],
      "execution_count": null
    },
    {
      "cell_type": "code",
      "source": [
        "string = 'This is Python'\n",
        "strings = \"This is Python\"\n",
        "char = \"C\"\n",
        "multiline_str = \"\"\"This is a multiline string with more than one line code.\"\"\"\n",
        "unicode = u\"\\U0001f600\\U0001F606\\U0001F923\"\n",
        "raw_str = r\"raw \\n string\"\n",
        "\n",
        "print(string)\n",
        "print(strings)\n",
        "print(char)\n",
        "print(multiline_str)\n",
        "print(unicode)\n",
        "print(raw_str)"
      ],
      "metadata": {
        "trusted": true,
        "execution": {
          "iopub.status.busy": "2025-07-08T17:56:30.710441Z",
          "iopub.execute_input": "2025-07-08T17:56:30.710788Z",
          "iopub.status.idle": "2025-07-08T17:56:30.7176Z",
          "shell.execute_reply.started": "2025-07-08T17:56:30.710764Z",
          "shell.execute_reply": "2025-07-08T17:56:30.716477Z"
        },
        "id": "-gK-UJoxeNqH"
      },
      "outputs": [],
      "execution_count": null
    },
    {
      "cell_type": "code",
      "source": [
        "a = True + 4\n",
        "b = False + 10\n",
        "\n",
        "print(\"a:\", a)\n",
        "print(\"b:\", b)"
      ],
      "metadata": {
        "trusted": true,
        "execution": {
          "iopub.status.busy": "2025-07-08T17:57:33.207275Z",
          "iopub.execute_input": "2025-07-08T17:57:33.207571Z",
          "iopub.status.idle": "2025-07-08T17:57:33.213951Z",
          "shell.execute_reply.started": "2025-07-08T17:57:33.207552Z",
          "shell.execute_reply": "2025-07-08T17:57:33.212886Z"
        },
        "id": "1rf8surYeNqH"
      },
      "outputs": [],
      "execution_count": null
    },
    {
      "cell_type": "code",
      "source": [
        "k = None\n",
        "a = 5\n",
        "b = 6\n",
        "print('Program exe')"
      ],
      "metadata": {
        "trusted": true,
        "execution": {
          "iopub.status.busy": "2025-07-08T18:04:11.046239Z",
          "iopub.execute_input": "2025-07-08T18:04:11.04664Z",
          "iopub.status.idle": "2025-07-08T18:04:11.052856Z",
          "shell.execute_reply.started": "2025-07-08T18:04:11.046612Z",
          "shell.execute_reply": "2025-07-08T18:04:11.051571Z"
        },
        "id": "L7W_z17AeNqI"
      },
      "outputs": [],
      "execution_count": null
    },
    {
      "cell_type": "code",
      "source": [],
      "metadata": {
        "trusted": true,
        "id": "PL4nxG3UeNqI"
      },
      "outputs": [],
      "execution_count": null
    }
  ]
}